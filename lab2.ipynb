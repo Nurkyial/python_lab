{
  "nbformat": 4,
  "nbformat_minor": 0,
  "metadata": {
    "colab": {
      "provenance": [],
      "authorship_tag": "ABX9TyOp76gHpG424M37Pean2mXm",
      "include_colab_link": true
    },
    "kernelspec": {
      "name": "python3",
      "display_name": "Python 3"
    },
    "language_info": {
      "name": "python"
    }
  },
  "cells": [
    {
      "cell_type": "markdown",
      "metadata": {
        "id": "view-in-github",
        "colab_type": "text"
      },
      "source": [
        "<a href=\"https://colab.research.google.com/github/Nurkyial/python_lab/blob/main/lab2.ipynb\" target=\"_parent\"><img src=\"https://colab.research.google.com/assets/colab-badge.svg\" alt=\"Open In Colab\"/></a>"
      ]
    },
    {
      "cell_type": "markdown",
      "source": [
        "1.\tПерепишите код из первой лабораторной работы, определив функции для повторяющихся блоков кода."
      ],
      "metadata": {
        "id": "LhkQWsRwmqh0"
      }
    },
    {
      "cell_type": "code",
      "execution_count": null,
      "metadata": {
        "id": "tuOB739HmmHw"
      },
      "outputs": [],
      "source": [
        "def write_file(filename, text):   # повтряющийся блок кода для записи данных в файл\n",
        "  '''\n",
        "  эта функция записывает данные в файл\n",
        "  '''\n",
        "  with open(filename, 'w') as f:\n",
        "    return f.write(text)\n",
        "\n",
        "\n",
        "def read_file(filename):          # повторяющийся блок кода для чтения из файла\n",
        "  '''\n",
        "  эта функция читает данные из файла\n",
        "  '''\n",
        "  with open(filename) as f:\n",
        "    return f.read()\n"
      ]
    },
    {
      "cell_type": "markdown",
      "source": [
        "2.\tЗамените некоторые из определенных функций на лямбда-функции, где это возможно."
      ],
      "metadata": {
        "id": "pPXyZtA-_CkC"
      }
    },
    {
      "cell_type": "code",
      "source": [
        "import re\n",
        "\n",
        "def find_substring(string):   # заменяем эту функцию на lambda функцию\n",
        "  return re.findall(r'[A-Z][a-z]+', string)\n",
        "\n",
        "substring = lambda s: re.findall(r'[A-Z][a-z]+', s)  # lambda функция\n",
        "\n",
        "%timeit substring\n",
        "sys.getsizeof(substring)"
      ],
      "metadata": {
        "id": "CHPcCUph_I9Q",
        "colab": {
          "base_uri": "https://localhost:8080/"
        },
        "outputId": "ec9860e4-f8f8-45ea-e083-ad19d389cf4b"
      },
      "execution_count": null,
      "outputs": [
        {
          "output_type": "stream",
          "name": "stdout",
          "text": [
            "53.5 ns ± 12.7 ns per loop (mean ± std. dev. of 7 runs, 10000000 loops each)\n"
          ]
        },
        {
          "output_type": "execute_result",
          "data": {
            "text/plain": [
              "144"
            ]
          },
          "metadata": {},
          "execution_count": 38
        }
      ]
    },
    {
      "cell_type": "markdown",
      "source": [
        "3.\tИспользуйте функции высшего порядка, такие как map(), filter() и reduce(), для обработки данных в текстовом файле."
      ],
      "metadata": {
        "id": "P3isom7CEY3_"
      }
    },
    {
      "cell_type": "code",
      "source": [
        "from bs4 import BeautifulSoup\n",
        "import requests\n",
        "\n",
        "def request_html(r):        # функция из 1 лабы\n",
        "  '''\n",
        "  Эта функция скачивает статью из интернета.\n",
        "\n",
        "  '''\n",
        "  html = r.text\n",
        "  #print(r.status_code)\n",
        "  soup = BeautifulSoup(html, 'html.parser')\n",
        "  return soup.body.get_text().strip()\n",
        "\n",
        "r = requests.get(\"https://ru.wikipedia.org/wiki/Python\")\n",
        "\n",
        "filename = \"article.txt\"  # скаченная статья и сохраненная в тексовый файл из 1 лабы.\n",
        "\n",
        "with open(filename, 'w') as f:\n",
        "  f.write(request_html(r))\n",
        "\n",
        "names = map(substring, read_file(filename))  # используя lambda функцию substring при помщи метода map находим все имена в этой статье.\n"
      ],
      "metadata": {
        "id": "YboQC9E8Eft7"
      },
      "execution_count": null,
      "outputs": []
    },
    {
      "cell_type": "markdown",
      "source": [
        "4.\tНапишите рекурсивную функцию для решения задачи, связанной с данными в текстовом файле. Например, вы можете написать рекурсивную функцию для поиска самого длинного слова в файле."
      ],
      "metadata": {
        "id": "NJgVizmuI9YN"
      }
    },
    {
      "cell_type": "code",
      "source": [
        "#lst = ['bhvhbnkmn', 'jnfjnf', 'hgg', 'bjhhjb']\n",
        "\n",
        "def recursive_longest(filename):\n",
        "  '''\n",
        "  Эта функция открывает файл и переводит его в список, потом находит самое длинное слово.\n",
        "\n",
        "  '''\n",
        "  with open(filename, 'r') as file:\n",
        "        lst = file.read().split()\n",
        "\n",
        "        if len(lst) == 1:\n",
        "          return lst[0]\n",
        "\n",
        "        current = lst[0]\n",
        "        longest = recursive_longest(lst[1:])\n",
        "\n",
        "        if len(current) < len(longest):\n",
        "            return longest\n",
        "        else:\n",
        "            return current\n",
        "\n",
        "\n"
      ],
      "metadata": {
        "id": "RjafQzNqKkUX"
      },
      "execution_count": null,
      "outputs": []
    },
    {
      "cell_type": "markdown",
      "source": [
        "5.\tДокументируйте все функции, которые вы определяете, с помощью строк документации (docstrings)."
      ],
      "metadata": {
        "id": "K__eZJGpfGFm"
      }
    },
    {
      "cell_type": "markdown",
      "source": [
        "6.\tИспользуйте магические команды Google Colab, такие как %%timeit, для измерения времени выполнения вашего кода, и sys.getsizeof() для измерения объема памяти, занимаемого вашими объектами. Сравните эти метрики с исходным кодом из первой лабораторной работы."
      ],
      "metadata": {
        "id": "C_QJQfi4hR_J"
      }
    },
    {
      "cell_type": "code",
      "source": [
        "import sys\n",
        "%timeit request_html(r)\n",
        "\n",
        "sys.getsizeof(request_html(r))"
      ],
      "metadata": {
        "colab": {
          "base_uri": "https://localhost:8080/"
        },
        "id": "9Dn8ldwdijo4",
        "outputId": "5d5ae988-0b30-45cd-c0c4-eef0f2ef99d9"
      },
      "execution_count": null,
      "outputs": [
        {
          "output_type": "stream",
          "name": "stdout",
          "text": [
            "347 ms ± 7.93 ms per loop (mean ± std. dev. of 7 runs, 1 loop each)\n"
          ]
        },
        {
          "output_type": "execute_result",
          "data": {
            "text/plain": [
              "221552"
            ]
          },
          "metadata": {},
          "execution_count": 34
        }
      ]
    },
    {
      "cell_type": "markdown",
      "source": [
        "Как итог во 2 лабе время увеличилось а память уменьшилась"
      ],
      "metadata": {
        "id": "OcYIwby8x_s9"
      }
    }
  ]
}