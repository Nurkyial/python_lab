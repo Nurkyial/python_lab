{
  "nbformat": 4,
  "nbformat_minor": 0,
  "metadata": {
    "colab": {
      "provenance": [],
      "toc_visible": true,
      "authorship_tag": "ABX9TyPHDH6AW/AIb92WQ0uqcS7h",
      "include_colab_link": true
    },
    "kernelspec": {
      "name": "python3",
      "display_name": "Python 3"
    },
    "language_info": {
      "name": "python"
    }
  },
  "cells": [
    {
      "cell_type": "markdown",
      "metadata": {
        "id": "view-in-github",
        "colab_type": "text"
      },
      "source": [
        "<a href=\"https://colab.research.google.com/github/Nurkyial/python_lab/blob/main/lab1.ipynb\" target=\"_parent\"><img src=\"https://colab.research.google.com/assets/colab-badge.svg\" alt=\"Open In Colab\"/></a>"
      ]
    },
    {
      "cell_type": "markdown",
      "source": [
        "Задание №1\n",
        "Создайте функцию, которая скачивает статью из интернета. Вы можете использовать библиотеки, такие как requests и BeautifulSoup, для скачивания и парсинга HTML-страниц."
      ],
      "metadata": {
        "id": "NFM10yxBX5hA"
      }
    },
    {
      "cell_type": "code",
      "execution_count": null,
      "metadata": {
        "id": "UheJ9hsBOcTZ"
      },
      "outputs": [],
      "source": [
        "from bs4 import BeautifulSoup\n",
        "import requests\n",
        "\n",
        "r = requests.get(\"https://ru.wikipedia.org/wiki/Python\")\n",
        "\n",
        "def request_html(r):\n",
        "  html = r.text\n",
        "  #print(r.status_code)\n",
        "  soup = BeautifulSoup(html, 'html.parser')\n",
        "  return soup.body.get_text().strip()\n",
        "\n",
        "print(request_html(r))"
      ]
    },
    {
      "cell_type": "markdown",
      "source": [
        "Задание №2\n",
        "Используйте эту функцию для скачивания статьи и сохранения ее в текстовый файл."
      ],
      "metadata": {
        "id": "S3ls-3GAYJQV"
      }
    },
    {
      "cell_type": "code",
      "source": [
        "r = requests.get(\"https://ru.wikipedia.org/wiki/Python\")\n",
        "with open(\"article.txt\", 'w') as f:\n",
        "  f.write(request_html(r))\n",
        "with open(\"article.txt\") as f1:\n",
        "  context = f1.read()\n",
        "  print(context)"
      ],
      "metadata": {
        "id": "uVsRVWAcX4U0"
      },
      "execution_count": null,
      "outputs": []
    },
    {
      "cell_type": "markdown",
      "source": [
        "Задание №3\n",
        "Создайте функцию, которая принимает строку в качестве параметра и использует регулярные выражения для поиска всех имен (предположим, что имя - это слово с заглавной буквы)."
      ],
      "metadata": {
        "id": "4l--sr0IfcPy"
      }
    },
    {
      "cell_type": "code",
      "source": [
        "import re\n",
        "\n",
        "s = input()\n",
        "\n",
        "def find_substring(string):\n",
        "  return re.findall(r'[A-Z][a-z]+', string)\n",
        "\n",
        "print(find_substring(s))\n"
      ],
      "metadata": {
        "id": "gbyjKuGnfqaq",
        "colab": {
          "base_uri": "https://localhost:8080/"
        },
        "outputId": "78da6f97-9096-44d5-8d9b-33d81cc4775a"
      },
      "execution_count": null,
      "outputs": [
        {
          "output_type": "stream",
          "name": "stdout",
          "text": [
            "yuuhh\n",
            "[]\n"
          ]
        }
      ]
    },
    {
      "cell_type": "markdown",
      "source": [
        "Задание №4\tИспользуйте эту функцию для поиска всех имен в тексте статьи, который вы считываете из файла. Напишите результат в новый файл."
      ],
      "metadata": {
        "id": "Rf1dqMZGrydU"
      }
    },
    {
      "cell_type": "code",
      "source": [
        "with open(\"article.txt\") as f:\n",
        "  context = f.read()\n",
        "  names = find_substring(context)\n",
        "  s = \" \".join(names)\n",
        "with open(\"names.txt\", 'w') as f1:\n",
        "  f1.write(s)\n",
        "  print(max(s.split()))"
      ],
      "metadata": {
        "id": "atVUkyuUr_ID",
        "colab": {
          "base_uri": "https://localhost:8080/"
        },
        "outputId": "6e1f79c2-7de1-4ff4-ff52-024938cec7a2"
      },
      "execution_count": null,
      "outputs": [
        {
          "output_type": "stream",
          "name": "stdout",
          "text": [
            "Zig\n"
          ]
        }
      ]
    },
    {
      "cell_type": "markdown",
      "source": [
        "Задание №5 Создайте функцию, которая принимает имя файла в качестве параметра и возвращает словарь, где ключи - это уникальные имена, а значения - количество их упоминаний в тексте."
      ],
      "metadata": {
        "id": "IUFexcoEHe4-"
      }
    },
    {
      "cell_type": "code",
      "source": [
        "def make_dict(name):\n",
        "  counts = dict()\n",
        "  for i in name:\n",
        "    counts[i] = counts.get(i, 0) + 1\n",
        "  return counts"
      ],
      "metadata": {
        "id": "PKGT-GMBHlWI"
      },
      "execution_count": null,
      "outputs": []
    },
    {
      "cell_type": "markdown",
      "source": [
        "Задание №6 Используйте эту функцию для подсчета количества упоминаний каждого имени в файле, который вы создали на предыдущем шаге."
      ],
      "metadata": {
        "id": "rdFTw5b3MobE"
      }
    },
    {
      "cell_type": "code",
      "source": [
        "with open(\"names.txt\", 'r') as f:\n",
        "  s = f.read()\n",
        "  names = s.split()\n",
        "  print(make_dict(names))\n",
        "  dct = make_dict(names)\n"
      ],
      "metadata": {
        "id": "fAn786AeM57O",
        "colab": {
          "base_uri": "https://localhost:8080/"
        },
        "outputId": "be847271-bd2d-46f2-ae62-41b5d95672f7"
      },
      "execution_count": null,
      "outputs": [
        {
          "output_type": "stream",
          "name": "stdout",
          "text": [
            "{'Python': 467, 'Software': 21, 'Foundation': 19, 'Ada': 2, 'Dylan': 2, 'Haskell': 5, 'Icon': 1, 'Java': 28, 'Perl': 10, 'Standard': 3, 'Mojo': 2, 'License': 4, 'Jython': 9, 'Iron': 7, 'Py': 57, 'Enhancement': 9, 'Proposal': 2, 'Dev': 3, 'Ops': 1, 'Google': 13, 'Facebook': 2, 'Go': 16, 'Amoeba': 1, 'The': 22, 'Zen': 3, 'Tim': 3, 'Peters': 3, 'Beautiful': 1, 'Explicit': 1, 'Simple': 4, 'Complex': 1, 'Cython': 4, 'Microsoft': 4, 'Windows': 15, 'Free': 1, 'Linux': 9, 'Android': 3, 'Plan': 1, 'Mac': 4, 'Phone': 1, 'Pad': 1, 'Palm': 1, 'Amiga': 1, 'Haiku': 1, 'Mobile': 1, 'Symbian': 1, 'Vista': 2, 'Fast': 1, 'True': 6, 'False': 3, 'Some': 4, 'Ellipsis': 2, 'Type': 5, 'Num': 8, 'None': 3, 'Null': 1, 'Not': 2, 'Implemented': 2, 'Wikipedia': 3, 'Spanning': 1, 'Tokyo': 1, 'Perhaps': 1, 'It': 4, 'First': 2, 'Second': 2, 'Compare': 1, 'Hello': 15, 'Eclipse': 5, 'Mypy': 3, 'World': 7, 'Pickle': 1, 'Pythonic': 1, 'Cherry': 1, 'Django': 4, 'Exception': 2, 'Package': 3, 'Index': 3, 'Tensor': 1, 'Flow': 2, 'Pygame': 1, 'Arithmetic': 3, 'Error': 2, 'Timer': 2, 'Jun': 1, 'Intel': 3, 'Pyrex': 1, 'Pychecker': 1, 'Pylint': 2, 'Class': 1, 'String': 1, 'System': 2, 'Coffee': 2, 'Script': 8, 'Groovy': 3, 'Julia': 4, 'Nim': 3, 'Ruby': 6, 'Swift': 3, 'Objective': 3, 'Rust': 4, 'Parrot': 1, 'Global': 3, 'Interpreter': 5, 'Lock': 3, 'Stackless': 4, 'Sci': 3, 'Mono': 2, 'Colored': 5, 'Psyco': 1, 'Javascript': 1, 'Numba': 1, 'Jit': 1, 'Nokia': 1, 'Series': 2, 'Framework': 3, 'Tiny': 1, 'Micro': 4, 'Brython': 2, 'Qpython': 1, 'Lisp': 3, 'Nuitka': 3, 'Prolog': 1, 'Help': 1, 'Return': 1, 'Pastebin': 1, 'Eric': 2, 'Qt': 1, 'Scintilla': 1, 'Subversion': 1, 'Git': 3, 'Charm': 1, 'Jet': 1, 'Brains': 1, 'Community': 1, 'Professional': 2, 'Wing': 4, 'Wingware': 1, 'Personal': 1, 'Pro': 2, 'Spyder': 2, 'Matplotlib': 1, 'Anaconda': 1, 'Thonny': 1, 'Develop': 2, 'Visual': 6, 'Studio': 5, 'Code': 3, 'Powered': 1, 'Apple': 2, 'Reddit': 1, 'Youtube': 2, 'Dropbox': 2, 'Instagram': 2, 'Cisco': 1, 'Hewlett': 1, 'Packard': 1, 'Industrial': 1, 'Light': 1, 'Magic': 1, 'Pixar': 1, 'Autodesk': 1, 'Maya': 1, 'Blender': 4, 'Houdini': 1, 'Open': 5, 'Shot': 2, 'Cura': 2, 'Mat': 2, 'Plot': 2, 'Lib': 1, 'Matlab': 1, 'Veusz': 3, 'Astropy': 3, 'Test': 2, 'Unix': 2, 'Solaris': 1, 'History': 2, 'Released': 1, 'With': 1, 'Perf': 1, 'Integration': 1, 'Performance': 2, 'Improvements': 1, 'Why': 5, 'General': 2, 'Reference': 3, 'Manual': 2, 'Kuchling': 3, 'Andrew': 1, 'Interview': 2, 'Guido': 7, 'Rossum': 6, 'July': 5, 'Functions': 3, 'An': 5, 'Introduction': 4, 'Programmers': 1, 'Proceedings': 1, 'Najaarsconferentie': 1, 'Dutch': 1, 'Users': 1, 'Group': 1, 'Cite': 3, 'Seer': 1, 'Classes': 2, 'Tutorial': 1, 'Modula': 1, 'Lundh': 1, 'Fredrik': 1, 'Call': 1, 'By': 1, 'Object': 5, 'Simionato': 2, 'Michele': 2, 'Method': 2, 'Resolution': 2, 'Order': 2, 'Functional': 2, 'Programming': 16, 'Schemenauer': 1, 'Neil': 1, 'Hetland': 1, 'Magnus': 1, 'Lie': 1, 'Generators': 1, 'Proposals': 8, 'Smith': 1, 'Kevin': 1, 'Jewett': 1, 'Jim': 1, 'Montanaro': 2, 'Skip': 2, 'Baxter': 1, 'Anthony': 1, 'Decorators': 1, 'Methods': 1, 'More': 1, 'Control': 1, 'Tools': 3, 'Krill': 1, 'Paul': 1, 'Info': 2, 'Download': 1, 'Mifrill': 1, 'Yogesh': 1, 'Rana': 1, 'Important': 1, 'International': 4, 'Research': 5, 'Journal': 7, 'Engineering': 2, 'Technology': 1, 'February': 3, 'Wiki': 4, 'Mark': 3, 'Lutz': 2, 'Session': 1, 'Learning': 3, 'Edition': 6, 'Book': 3, 'Reilly': 10, 'Media': 5, 'Inc': 5, 'Education': 1, 'Developers': 1, 'Satwik': 1, 'Kansal': 1, 'Metaprogramming': 1, 'Asynchronous': 1, 'Alexandre': 1, 'Bergel': 1, 'Lorenzo': 1, 'Bettini': 1, 'Generic': 1, 'Pharo': 1, 'Data': 6, 'Technologies': 2, 'Jos': 1, 'Cordeiro': 1, 'Slimane': 1, 'Hammoudi': 1, 'Marten': 1, 'Sinderen': 1, 'Berlin': 1, 'Heidelberg': 1, 'Springer': 1, 'Peschke': 1, 'Nishimura': 1, 'Varner': 1, 'High': 1, 'Level': 1, 'Based': 2, 'Oriented': 3, 'Transactions': 1, 'Nuclear': 1, 'Science': 9, 'October': 1, 'Xiv': 4, 'Steven': 2, 'Lott': 1, 'Aspect': 1, 'Mastering': 1, 'Packt': 3, 'Publishing': 3, 'Arne': 1, 'Bachmann': 1, 'Henning': 1, 'Bergmeyer': 1, 'Andreas': 1, 'Schreiber': 1, 'Evaluation': 2, 'Papers': 1, 'Vol': 3, 'Cooper': 1, 'Scratch': 1, 'Guide': 4, 'Everything': 1, 'Scientist': 1, 'Needs': 1, 'Know': 1, 'Linear': 1, 'Algebra': 1, 'Statistics': 1, 'Coding': 1, 'Applications': 4, 'Neural': 1, 'Networks': 1, 'Decision': 1, 'Trees': 1, 'Roland': 1, 'Bind': 1, 'Reuven': 1, 'Lerner': 1, 'Multiprocessing': 1, 'David': 4, 'Beazley': 3, 'Brian': 1, 'Jones': 2, 'Modules': 1, 'Packages': 1, 'Cookbook': 3, 'About': 1, 'Implementations': 1, 'Mostafa': 1, 'Chandra': 1, 'Krintz': 1, 'Cascaval': 1, 'Edelsohn': 1, 'Nagpurkar': 1, 'Wu': 1, 'Understanding': 1, 'Potential': 1, 'Optimizations': 1, 'Technical': 1, 'Report': 1, 'August': 2, 'Akeret': 1, 'Gamper': 1, 'Amara': 1, 'Refregier': 1, 'Astronomy': 1, 'Computing': 1, 'April': 4, 'Release': 4, 'Schedule': 2, 'Berk': 1, 'Ekmekci': 1, 'Charles': 1, 'Mc': 1, 'Anany': 1, 'Cameron': 1, 'Mura': 1, 'Bioscientists': 1, 'Primer': 2, 'Computational': 2, 'Biology': 2, 'Kalyani': 1, 'Adawadkar': 1, 'Future': 1, 'Advance': 1, 'Development': 4, 'Ethan': 1, 'Bommarito': 2, 'Michael': 3, 'James': 3, 'Empirical': 1, 'Analysis': 2, 'Social': 2, 'Network': 3, 'Rochester': 1, 'Pratik': 1, 'Desai': 1, 'Arduino': 1, 'Ltd': 3, 'Sebastian': 1, 'Bassi': 1, 'Life': 1, 'Researchers': 1, 'November': 3, 'Docs': 4, 'Ps': 1, 'Security': 1, 'Enhancements': 1, 'Sunsetting': 1, 'Developer': 5, 'Extending': 2, 'Embedding': 1, 'Counts': 1, 'Since': 1, 'What': 3, 'New': 5, 'In': 1, 'Hettinger': 1, 'Raymond': 1, 'Generator': 1, 'Expressions': 1, 'Venners': 1, 'Bill': 1, 'Making': 2, 'Artima': 2, 'Alex': 2, 'Martelli': 1, 'Anna': 1, 'Ravenscroft': 1, 'Ascher': 1, 'Culture': 1, 'Summerfield': 1, 'Practice': 1, 'Create': 1, 'Better': 1, 'Programs': 1, 'Using': 3, 'Concurrency': 1, 'Libraries': 1, 'Patterns': 1, 'Addison': 2, 'Wesley': 2, 'Ways': 1, 'Is': 1, 'Powerful': 2, 'Force': 1, 'Web': 1, 'Port': 1, 'Specific': 1, 'Changes': 1, 'Documentation': 1, 'Drop': 1, 'Hints': 2, 'Luciano': 2, 'Ramalho': 2, 'Fluent': 2, 'March': 1, 'Floating': 1, 'Point': 1, 'Issues': 1, 'Limitations': 1, 'Almost': 1, 'Moshe': 1, 'Zadka': 1, 'Unifying': 1, 'Long': 1, 'Integers': 2, 'Built': 2, 'Types': 2, 'Foreword': 1, 'Reserved': 1, 'Steve': 1, 'Jost': 1, 'Structured': 1, 'Details': 1, 'Contracts': 1, 'Datalog': 1, 'Fawzi': 1, 'Albalooshi': 1, 'Amjad': 1, 'Mahmood': 1, 'Comparative': 2, 'Study': 1, 'Effect': 1, 'Multiple': 1, 'Inheritance': 1, 'Mechanism': 1, 'Complexity': 1, 'Reusability': 1, 'Advanced': 2, 'Computer': 4, 'Jukka': 2, 'Lehtosalo': 2, 'Generics': 1, 'Read': 2, 'Mertz': 1, 'Intersoft': 1, 'Lab': 2, 'Regular': 1, 'Library': 2, 'Speed': 1, 'Tips': 1, 'Checker': 1, 'Logilab': 1, 'Mathieu': 1, 'Fourment': 1, 'Gillings': 1, 'Bioinformatics': 1, 'Bogdanchikov': 1, 'Zhaparov': 1, 'Suliyev': 1, 'Physics': 1, 'Conference': 1, 'Pascal': 1, 'Fua': 1, 'Krzysztof': 1, 'Lis': 1, 'Comparing': 2, 'Queens': 1, 'Problem': 1, 'Vision': 1, 'Laboratory': 1, 'Other': 1, 'Languages': 2, 'Muhammad': 1, 'Shoaib': 1, 'Farooq': 2, 'Sher': 1, 'Afzal': 1, 'Khan': 1, 'Ahmad': 1, 'Saeed': 1, 'Islam': 1, 'Adnan': 1, 'Abid': 1, 'Widely': 1, 'Used': 1, 'Lo': 1, 'Kincaid': 1, 'Jason': 1, 'Language': 4, 'That': 1, 'Meets': 1, 'Tech': 2, 'Crunch': 1, 'Notes': 1, 'Ceyhun': 1, 'Ozgur': 1, 'Taylor': 1, 'Colliau': 1, 'Grace': 1, 'Rogers': 1, 'Zachariah': 1, 'Hughes': 1, 'Elyse': 1, 'Bennie': 1, 'Myer': 1, 'Tyson': 1, 'Caw': 1, 'Little': 1, 'Strachan': 1, 'We': 2, 'Created': 1, 'Yegulalp': 1, 'Serdar': 1, 'Creator': 1, 'Linuxdevcenter': 1, 'Lattner': 3, 'Chris': 3, 'Homepage': 1, 'Benchmarks': 1, 'Game': 1, 'Ars': 1, 'Technica': 1, 'Unladen': 1, 'Swallow': 1, 'Palach': 2, 'Mailing': 1, 'Lists': 1, 'Easy': 1, 'Remove': 1, 'Reworking': 1, 'Optional': 1, 'Process': 1, 'Reeta': 1, 'Sahoo': 2, 'Gagan': 1, 'Delhi': 1, 'Saraswati': 1, 'House': 1, 'India': 1, 'Pvt': 1, 'Radar': 1, 'Compound': 1, 'Obi': 1, 'Ike': 1, 'Nwosu': 1, 'Inside': 2, 'Virtual': 2, 'Machine': 3, 'Leanpub': 1, 'Source': 2, 'Extensions': 1, 'Compiler': 2, 'Plugins': 1, 'Bundles': 1, 'Products': 1, 'Marketplace': 1, 'Support': 1, 'Cruz': 1, 'Josef': 1, 'Jr': 1, 'Programmer': 1, 'Asked': 1, 'Me': 1, 'You': 1, 'Tube': 1, 'Use': 1, 'Medium': 1, 'Thank': 1, 'Our': 1, 'Powers': 1, 'Hundreds': 1, 'Instances': 1, 'Dozens': 1, 'Grumpy': 1, 'Blog': 2, 'Christina': 1, 'Cardoza': 1, 'Times': 1, 'Welcoming': 1, 'Visionary': 1, 'Sponsor': 1, 'News': 1, 'Cloud': 1, 'Eilif': 1, 'Muller': 1, 'Bednar': 1, 'Markus': 1, 'Diesmann': 1, 'Marc': 1, 'Oliver': 1, 'Gewaltig': 1, 'Hines': 1, 'Frontiers': 2, 'Neuroinformatics': 2, 'Scripting': 2, 'Building': 2, 'Geographic': 1, 'Informations': 1, 'Systems': 1, 'Program': 1, 'National': 1, 'Center': 1, 'Atmospheric': 1, 'Jonathan': 1, 'Thomas': 1, 'Video': 1, 'Editor': 1, 'Kickstarter': 1, 'Fedora': 2, 'Magazine': 1, 'Ultimaker': 1, 'Hub': 2, 'Locker': 1, 'Best': 1, 'Printer': 1, 'Slicer': 1, 'All': 1, 'Alexa': 1, 'Peter': 1, 'Jurica': 1, 'Cees': 1, 'Van': 1, 'Leeuwen': 1, 'Github': 1, 'Pages': 1, 'Fisher': 1, 'Writing': 1, 'Conservation': 1, 'Fauna': 1, 'Flora': 1, 'Cambridge': 1, 'Collaboration': 1, 'Price': 1, 'Whelan': 1, 'Sip': 1, 'Lim': 1, 'Crawford': 1, 'Conseil': 1, 'Shupe': 1, 'Craig': 1, 'Dencheva': 1, 'Project': 2, 'Status': 1, 'Core': 1, 'Astronomical': 1, 'Ryabtsev': 1, 'Alexander': 1, 'Reasons': 1, 'Good': 1, 'Artificial': 1, 'Intelligence': 1, 'Insights': 1, 'Stars': 1, 'Mock': 1, 'Noah': 1, 'Gift': 1, 'Jeremy': 1, 'Administration': 1, 'Hitchhiker': 1, 'Essential': 1, 'Jan': 1, 'Parallel': 1, 'Expert': 1, 'Delphi': 1, 'Erlang': 1, 'Kotlin': 1, 'Lua': 1, 'Caml': 1, 'Scala': 1, 'Shell': 1, 'Smalltalk': 1, 'Basic': 1, 'Zig': 1, 'Afrikaans': 1, 'Alemannisch': 1, 'Aragon': 1, 'Asturianu': 1, 'Az': 1, 'Basa': 2, 'Bali': 1, 'Brezhoneg': 1, 'Bosanski': 1, 'Ugi': 1, 'Catal': 1, 'Cebuano': 1, 'Cymraeg': 1, 'Dansk': 1, 'Deutsch': 1, 'English': 2, 'Esperanto': 1, 'Espa': 1, 'Eesti': 1, 'Euskara': 1, 'Suomi': 1, 'Na': 1, 'Vosa': 1, 'Vakaviti': 1, 'Fran': 1, 'Galego': 1, 'Hrvatski': 1, 'Magyar': 1, 'Interlingua': 1, 'Bahasa': 2, 'Indonesia': 1, 'Ido': 1, 'Italiano': 1, 'La': 1, 'Kurd': 1, 'Latina': 1, 'Lombard': 1, 'Lietuvi': 1, 'Latvie': 1, 'Melayu': 1, 'Plattd': 1, 'Nederlands': 1, 'Norsk': 2, 'Polski': 1, 'Portugu': 1, 'Runa': 1, 'Simi': 1, 'Rom': 1, 'Scots': 1, 'Srpskohrvatski': 1, 'Sloven': 2, 'Shqip': 1, 'Svenska': 1, 'Kiswahili': 1, 'Tagalog': 1, 'Uyghurche': 1, 'Ti': 1, 'Vi': 1, 'Walon': 1, 'Winaray': 1, 'Creative': 1, 'Commons': 1, 'Wikimedia': 1}\n"
          ]
        }
      ]
    },
    {
      "cell_type": "markdown",
      "source": [
        "Задание №7 Создайте функцию, которая принимает словарь (созданный на предыдущем шаге) и выводит имя, которое упоминается чаще всего, и количество его упоминаний."
      ],
      "metadata": {
        "id": "8tl7Tvw8SL6E"
      }
    },
    {
      "cell_type": "code",
      "source": [
        "def iter(dct):\n",
        "  max_qnt = max(dct, key=dct.get)\n",
        "  return(f'{max_qnt} упоминается {dct[max_qnt]} раз')\n"
      ],
      "metadata": {
        "id": "BrrQAk0BSThq"
      },
      "execution_count": null,
      "outputs": []
    },
    {
      "cell_type": "markdown",
      "source": [
        "Задание №8 Используйте эту функцию для вывода имени, которое упоминается чаще всего, в тексте статьи."
      ],
      "metadata": {
        "id": "uvUnL6tOWZIU"
      }
    },
    {
      "cell_type": "code",
      "source": [
        "def longest_word(filename):\n",
        "    with open(filename, 'r') as file:\n",
        "        content = file.read().split()\n",
        "\n",
        "    if len(content) == 0:\n",
        "        return 0\n",
        "\n",
        "    longest = 0\n",
        "    current_longest = \"\"\n",
        "\n",
        "    for word in content:\n",
        "        if len(word) > len(current_longest):\n",
        "            current_longest = word\n",
        "\n",
        "    return longest_word(content[content.index(current_longest) + 1:]) if longest < len(current_longest) else len(current_longest)"
      ],
      "metadata": {
        "id": "sWsy_IeZWcUz"
      },
      "execution_count": null,
      "outputs": []
    }
  ]
}