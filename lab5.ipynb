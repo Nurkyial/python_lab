{
  "nbformat": 4,
  "nbformat_minor": 0,
  "metadata": {
    "colab": {
      "provenance": [],
      "authorship_tag": "ABX9TyOX9z6V9TbruKKQ5Bp1N5Nc",
      "include_colab_link": true
    },
    "kernelspec": {
      "name": "python3",
      "display_name": "Python 3"
    },
    "language_info": {
      "name": "python"
    }
  },
  "cells": [
    {
      "cell_type": "markdown",
      "metadata": {
        "id": "view-in-github",
        "colab_type": "text"
      },
      "source": [
        "<a href=\"https://colab.research.google.com/github/Nurkyial/python_lab/blob/main/lab5.ipynb\" target=\"_parent\"><img src=\"https://colab.research.google.com/assets/colab-badge.svg\" alt=\"Open In Colab\"/></a>"
      ]
    },
    {
      "cell_type": "markdown",
      "source": [
        "Алмазова Нуркыял\n",
        "М23-534\n"
      ],
      "metadata": {
        "id": "2skDixa4XpJS"
      }
    },
    {
      "cell_type": "markdown",
      "source": [
        "1.\tЗагрузите датасет: Используйте библиотеку pandas для загрузки публичного датасета. Например, вы можете использовать датасет о пассажирах “Титаника”.\n",
        "2.\tИсследуйте данные: Используйте функции head(), info() и describe() для получения общей информации о датасете.\n",
        "3.\tСоздайте гистограммы: Используйте функцию hist() для создания гистограммы каждого числового признака в датасете.\n",
        "4.\tСоздайте диаграммы рассеяния: Используйте функцию scatter() для создания диаграммы рассеяния для каждой пары числовых признаков.\n",
        "5.\tСоздайте корреляционную матрицу: Используйте функцию corr() для создания корреляционной матрицы всех числовых признаков и визуализируйте ее с помощью функции imshow().\n",
        "6.\tСоздайте boxplot: Используйте функцию boxplot() для создания boxplot каждого числового признака.\n",
        "7.\tСоздайте матрицу диаграмм рассеяния: Создайте функцию, которая принимает на вход датафрейм и создает матрицу диаграмм рассеяния для каждой пары числовых признаков.\n",
        "8.\tСоздайте тепловую карту пропущенных значений: Создайте новый датафрейм, где каждое значение - это булево значение, указывающее, пропущено ли соответствующее значение в исходном датафрейме. Затем используйте функцию imshow() для создания тепловой карты этого нового датафрейма.\n",
        "9.\tСоздайте столбчатую диаграмму: Выберите категориальный признак и используйте функцию bar() для создания столбчатой диаграммы, показывающей количество наблюдений для каждой категории.\n",
        "10.\tСоздайте круговую диаграмму: Выберите другой категориальный признак и используйте функцию pie() для создания круговой диаграммы, показывающей процентное соотношение категорий.\n",
        "11.\tСоздайте диаграмму рассеяния с условием: Создайте функцию, которая принимает на вход датафрейм, два числовых признака и категориальный признак, и создает диаграмму рассеяния, где точки окрашены в зависимости от категории.\n",
        "12.\tСохраните графики в файлы: Используйте функцию savefig() для сохранения каждого графика в отдельный файл.\n"
      ],
      "metadata": {
        "id": "Wom_bQlImAX9"
      }
    },
    {
      "cell_type": "code",
      "execution_count": null,
      "metadata": {
        "id": "TOk5aeXkP9kp"
      },
      "outputs": [],
      "source": [
        "import pandas as pd\n",
        "import numpy as np\n",
        "import matplotlib.pyplot as plt\n",
        "import seaborn as sns\n",
        "from pandas.plotting import scatter_matrix\n",
        "\n",
        "titanic_url = \"https://web.stanford.edu/class/archive/cs/cs109/cs109.1166/stuff/titanic.csv\"\n",
        "\n",
        "titanic_df = pd.read_csv(titanic_url)\n",
        "print(titanic_df.head()) # head of the dataframe\n",
        "print(titanic_df.info()) # general information about the dataframe\n",
        "print(titanic_df.describe()) # summary statistics about the dataframe"
      ]
    },
    {
      "cell_type": "markdown",
      "source": [
        "гитограмма с помощью функции hist()"
      ],
      "metadata": {
        "id": "L2sDUuxpHAAO"
      }
    },
    {
      "cell_type": "code",
      "source": [
        "titanic_df.hist(figsize=(12, 10), bins=20)\n",
        "plt.suptitle(\"Histograms of Numeric Features in Titanic Dataset\")\n",
        "plt.show()"
      ],
      "metadata": {
        "id": "9GOMES0sG_lH"
      },
      "execution_count": null,
      "outputs": []
    },
    {
      "cell_type": "markdown",
      "source": [
        "диаграмма рассеяния с помощью scatter"
      ],
      "metadata": {
        "id": "GRcZyrF8I6Tl"
      }
    },
    {
      "cell_type": "code",
      "source": [
        "scatter_columns = titanic_df.select_dtypes(include='number').columns\n",
        "\n",
        "num_plots = len(scatter_columns)\n",
        "num_cols = 3\n",
        "num_rows = (num_plots - 1) // num_cols + 1\n",
        "fig, axes = plt.subplots(num_rows, num_cols, figsize=(15, 5 * num_rows))\n",
        "\n",
        "# Create scatter plots\n",
        "for i, column in enumerate(scatter_columns):\n",
        "    row, col = divmod(i, num_cols)\n",
        "    ax = axes[row, col] if num_rows > 1 else axes[col]\n",
        "    ax.scatter(titanic_df[column], titanic_df[column], alpha=0.5)\n",
        "    ax.set_title(f\"Scatter Plot of {column}\")\n",
        "    ax.set_xlabel(column)\n",
        "    ax.set_ylabel(column)\n",
        "\n",
        "# Adjust layout to prevent overlap of titles and labels\n",
        "plt.tight_layout()\n",
        "plt.show()\n"
      ],
      "metadata": {
        "id": "-t51g3F3XLrL"
      },
      "execution_count": null,
      "outputs": []
    },
    {
      "cell_type": "markdown",
      "source": [
        "корреляционная матрица"
      ],
      "metadata": {
        "id": "cW5LF9sAJ76o"
      }
    },
    {
      "cell_type": "code",
      "source": [
        "\n",
        "correlation_matrix = titanic_df.corr()\n",
        "plt.figure(figsize=(10, 8))\n",
        "plt.imshow(correlation_matrix, cmap='viridis', interpolation='none', aspect='auto')\n",
        "plt.colorbar(label='Correlation Coefficient')\n",
        "plt.xticks(range(len(correlation_matrix)), correlation_matrix.columns, rotation=90)\n",
        "plt.yticks(range(len(correlation_matrix)), correlation_matrix.columns)\n",
        "plt.title(\"Correlation Matrix of Numeric Features in Titanic Dataset\")\n",
        "plt.show()"
      ],
      "metadata": {
        "id": "yxs7jnx2J-fj"
      },
      "execution_count": null,
      "outputs": []
    },
    {
      "cell_type": "markdown",
      "source": [
        "создание boxplot"
      ],
      "metadata": {
        "id": "1N_or0DNRYf7"
      }
    },
    {
      "cell_type": "code",
      "source": [
        "plt.figure(figsize=(12, 8))\n",
        "titanic_df.boxplot(patch_artist=True, vert=True)\n",
        "plt.title(\"Boxplot of Numeric Attributes in Titanic Dataset\")\n",
        "plt.show()"
      ],
      "metadata": {
        "id": "d5dX-2fyRbm9"
      },
      "execution_count": null,
      "outputs": []
    },
    {
      "cell_type": "markdown",
      "source": [
        "матрица диаграмм рассеяния"
      ],
      "metadata": {
        "id": "WSem-GMWSaoK"
      }
    },
    {
      "cell_type": "code",
      "source": [
        "def scatter_matrix_plot(dataframe, figsize=(12, 12), alpha=0.8, diagonal='hist'):\n",
        "  scatter_matrix(dataframe.select_dtypes(include='number'), figsize=figsize, alpha=alpha, diagonal=diagonal)\n",
        "  plt.suptitle(\"Scatter Plots for Numeric Features\", y=1.02)\n",
        "  plt.show()\n",
        "\n",
        "scatter_matrix_plot(titanic_df)"
      ],
      "metadata": {
        "id": "MTP2jwbMSeNk"
      },
      "execution_count": null,
      "outputs": []
    },
    {
      "cell_type": "markdown",
      "source": [
        "тепловая карта пропущенных значений"
      ],
      "metadata": {
        "id": "hf46ATprTXet"
      }
    },
    {
      "cell_type": "code",
      "source": [
        "def heatmap(dataframe, figsize=(10, 8)):\n",
        "\n",
        "    missing_values = dataframe.isnull()\n",
        "\n",
        "    plt.figure(figsize=figsize)\n",
        "    sns.heatmap(missing_values, cbar=False, cmap='viridis', yticklabels=False)\n",
        "    plt.title(\"Heatmap of Missing Values\")\n",
        "    plt.show()\n",
        "\n",
        "heatmap(titanic_df)"
      ],
      "metadata": {
        "id": "4cCyqDYgTaxv"
      },
      "execution_count": null,
      "outputs": []
    },
    {
      "cell_type": "markdown",
      "source": [
        "Столбчатая диаграмма"
      ],
      "metadata": {
        "id": "oEi0IUGBUhSn"
      }
    },
    {
      "cell_type": "code",
      "source": [
        "pclass_counts = titanic_df['Pclass'].value_counts()\n",
        "\n",
        "plt.figure(figsize=(8, 6))\n",
        "pclass_counts.sort_index().plot(kind='bar', color='skyblue')\n",
        "plt.title('Number of Passengers in Each Class')\n",
        "plt.xlabel('Passenger Class')\n",
        "plt.ylabel('Number of Passengers')\n",
        "plt.xticks(rotation=0)\n",
        "plt.show()"
      ],
      "metadata": {
        "id": "qO-WkJsZUhAd"
      },
      "execution_count": null,
      "outputs": []
    },
    {
      "cell_type": "markdown",
      "source": [
        "круговая диаграмма"
      ],
      "metadata": {
        "id": "BGjWT9KXVNZv"
      }
    },
    {
      "cell_type": "code",
      "source": [
        "sex_counts = titanic_df['Sex'].value_counts(normalize=True) * 100\n",
        "\n",
        "plt.figure(figsize=(8, 8))\n",
        "sex_counts.plot(kind='pie', autopct='%1.1f%%', colors=['lightblue', 'lightcoral'])\n",
        "plt.title('Percentage of Male and Female Passengers')\n",
        "plt.ylabel('')\n",
        "plt.show()"
      ],
      "metadata": {
        "id": "H867VgmpVPhr"
      },
      "execution_count": null,
      "outputs": []
    },
    {
      "cell_type": "markdown",
      "source": [
        "диаграмма рассеяния с условием"
      ],
      "metadata": {
        "id": "czKOncVJWEwj"
      }
    },
    {
      "cell_type": "code",
      "source": [
        "def category(dataframe, x_attribute, y_attribute, category_attribute, figsize=(10, 8)):\n",
        "\n",
        "    plt.figure(figsize=figsize)\n",
        "    sns.scatterplot(x=x_attribute, y=y_attribute, hue=category_attribute, data=dataframe, palette='viridis')\n",
        "    plt.title(f'Scatter Plot of {x_attribute} vs {y_attribute} Colored by {category_attribute}')\n",
        "    plt.show()\n",
        "\n",
        "category(titanic_df, 'Age', 'Fare', 'Pclass')\n"
      ],
      "metadata": {
        "id": "7QBr98C4WHHa"
      },
      "execution_count": null,
      "outputs": []
    }
  ]
}